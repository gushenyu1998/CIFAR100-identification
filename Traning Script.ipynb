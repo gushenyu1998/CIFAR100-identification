{
 "nbformat": 4,
 "nbformat_minor": 0,
 "metadata": {
  "colab": {
   "name": "lab2.ipynb",
   "provenance": [],
   "collapsed_sections": []
  },
  "kernelspec": {
   "name": "python3",
   "display_name": "Python 3"
  },
  "accelerator": "GPU"
 },
 "cells": [
  {
   "cell_type": "markdown",
   "metadata": {
    "colab_type": "text",
    "id": "wmCbxoDrADcF",
    "pycharm": {
     "name": "#%% md\n"
    }
   },
   "source": [
    "# Google Colab setup with Google Drive folder\n",
    "\n",
    "This notebook provides the code you need to set up Google Colab to run and import files from within a Google Drive folder.\n",
    "\n",
    "This will allow you to upload assignment code to your Google Drive and then run the code on Google Colab machines (with free GPUs if needed). \n",
    "\n",
    "You will need to create a folder in your Google Drive to hold your assignments and you will need to open Colaboratory within this folder before running the set up code (check the link above to see how)."
   ]
  },
  {
   "cell_type": "markdown",
   "metadata": {
    "colab_type": "text",
    "id": "zWhrmhqVCyGH",
    "pycharm": {
     "name": "#%% md\n"
    }
   },
   "source": [
    "# Mount Google Drive\n",
    "\n",
    "This will allow the Colab machine to access Google Drive folders by mounting the drive on the machine. You will be asked to copy and paste an authentication code."
   ]
  },
  {
   "cell_type": "code",
   "metadata": {
    "colab_type": "code",
    "id": "Wv2oKmF9AJtI",
    "colab": {},
    "pycharm": {
     "name": "#%%\n"
    }
   },
   "source": [
    "from google.colab import drive\n",
    "drive.mount('/content/gdrive/')"
   ],
   "execution_count": 1,
   "outputs": [
    {
     "ename": "ModuleNotFoundError",
     "evalue": "No module named 'google.colab'",
     "output_type": "error",
     "traceback": [
      "\u001B[1;31m---------------------------------------------------------------------------\u001B[0m",
      "\u001B[1;31mModuleNotFoundError\u001B[0m                       Traceback (most recent call last)",
      "Cell \u001B[1;32mIn [1], line 1\u001B[0m\n\u001B[1;32m----> 1\u001B[0m \u001B[38;5;28;01mfrom\u001B[39;00m \u001B[38;5;21;01mgoogle\u001B[39;00m\u001B[38;5;21;01m.\u001B[39;00m\u001B[38;5;21;01mcolab\u001B[39;00m \u001B[38;5;28;01mimport\u001B[39;00m drive\n\u001B[0;32m      2\u001B[0m drive\u001B[38;5;241m.\u001B[39mmount(\u001B[38;5;124m'\u001B[39m\u001B[38;5;124m/content/gdrive/\u001B[39m\u001B[38;5;124m'\u001B[39m)\n",
      "\u001B[1;31mModuleNotFoundError\u001B[0m: No module named 'google.colab'"
     ]
    }
   ]
  },
  {
   "cell_type": "code",
   "metadata": {
    "id": "kKGxaMcmP_Et",
    "colab_type": "code",
    "colab": {},
    "pycharm": {
     "name": "#%%\n"
    }
   },
   "source": [
    "ls"
   ],
   "execution_count": 2,
   "outputs": [
    {
     "name": "stdout",
     "output_type": "stream",
     "text": [
      " Volume in drive F is work\n",
      " Volume Serial Number is A05A-E0E4\n",
      "\n",
      " Directory of F:\\Study File\\CMPT412\\project2_package\\project2_package\n",
      "\n",
      "01/24/2023  05:23 PM    <DIR>          .\n",
      "01/22/2023  02:40 PM    <DIR>          ..\n",
      "01/24/2023  05:23 PM    <DIR>          .idea\n",
      "01/22/2023  01:45 PM    <DIR>          .ipynb_checkpoints\n",
      "01/22/2023  01:52 PM    <DIR>          data\n",
      "01/19/2023  10:19 PM       632,151,458 data.zip\n",
      "01/24/2023  05:23 PM            76,851 lab2.ipynb\n",
      "01/24/2023  05:16 PM            43,998 plot.png\n",
      "01/22/2023  03:11 PM           138,688 submission_netid.csv\n",
      "               4 File(s)    632,410,995 bytes\n",
      "               5 Dir(s)  329,563,111,424 bytes free\n"
     ]
    }
   ]
  },
  {
   "cell_type": "markdown",
   "metadata": {
    "colab_type": "text",
    "id": "4Qs04PPwDOFy",
    "pycharm": {
     "name": "#%% md\n"
    }
   },
   "source": [
    "# Change directory to allow imports\n",
    "\n",
    "\n",
    "As noted above, you should create a Google Drive folder to hold all your assignment files. You will need to add this code to the top of any python notebook you run to be able to import python files from your drive assignment folder (you should change the file path below to be your own assignment folder). Following the hand-out, you should have a directory \"SFU_CMPT_CV_lab2\" on g-drive, which should have a directory \"data\", which contains three tar.gz files."
   ]
  },
  {
   "cell_type": "code",
   "metadata": {
    "colab_type": "code",
    "id": "UA2-UyfpEc9O",
    "colab": {},
    "pycharm": {
     "name": "#%%\n"
    }
   },
   "source": [
    "import os\n",
    "os.chdir(\"/content/gdrive/My Drive/SFU_CMPT_CV_lab2\")"
   ],
   "execution_count": 3,
   "outputs": [
    {
     "ename": "FileNotFoundError",
     "evalue": "[WinError 3] The system cannot find the path specified: '/content/gdrive/My Drive/SFU_CMPT_CV_lab2'",
     "output_type": "error",
     "traceback": [
      "\u001B[1;31m---------------------------------------------------------------------------\u001B[0m",
      "\u001B[1;31mFileNotFoundError\u001B[0m                         Traceback (most recent call last)",
      "Cell \u001B[1;32mIn [3], line 2\u001B[0m\n\u001B[0;32m      1\u001B[0m \u001B[38;5;28;01mimport\u001B[39;00m \u001B[38;5;21;01mos\u001B[39;00m\n\u001B[1;32m----> 2\u001B[0m \u001B[43mos\u001B[49m\u001B[38;5;241;43m.\u001B[39;49m\u001B[43mchdir\u001B[49m\u001B[43m(\u001B[49m\u001B[38;5;124;43m\"\u001B[39;49m\u001B[38;5;124;43m/content/gdrive/My Drive/SFU_CMPT_CV_lab2\u001B[39;49m\u001B[38;5;124;43m\"\u001B[39;49m\u001B[43m)\u001B[49m\n",
      "\u001B[1;31mFileNotFoundError\u001B[0m: [WinError 3] The system cannot find the path specified: '/content/gdrive/My Drive/SFU_CMPT_CV_lab2'"
     ]
    }
   ]
  },
  {
   "cell_type": "code",
   "metadata": {
    "id": "gyRCWAIyRHWc",
    "colab_type": "code",
    "colab": {},
    "pycharm": {
     "name": "#%%\n"
    }
   },
   "source": [
    "ls # Check if this is your folder"
   ],
   "execution_count": 4,
   "outputs": [
    {
     "name": "stdout",
     "output_type": "stream",
     "text": [
      " Volume in drive F is work\n",
      " Volume Serial Number is A05A-E0E4\n",
      "\n",
      " Directory of F:\\Study File\\CMPT412\\project2_package\\project2_package\n",
      "\n",
      "\n",
      " Directory of F:\\Study File\\CMPT412\\project2_package\\project2_package\n",
      "\n",
      "\n",
      " Directory of F:\\Study File\\CMPT412\\project2_package\\project2_package\n",
      "\n",
      "\n",
      " Directory of F:\\Study File\\CMPT412\\project2_package\\project2_package\n",
      "\n",
      "\n",
      " Directory of F:\\Study File\\CMPT412\\project2_package\\project2_package\n",
      "\n",
      "\n",
      " Directory of F:\\Study File\\CMPT412\\project2_package\\project2_package\n",
      "\n",
      "\n",
      " Directory of F:\\Study File\\CMPT412\\project2_package\\project2_package\n",
      "\n"
     ]
    },
    {
     "name": "stderr",
     "output_type": "stream",
     "text": [
      "File Not Found\n"
     ]
    }
   ]
  },
  {
   "cell_type": "markdown",
   "metadata": {
    "id": "SJOCaUMilRz_",
    "colab_type": "text",
    "pycharm": {
     "name": "#%% md\n"
    }
   },
   "source": [
    "# Copy data to local dir"
   ]
  },
  {
   "cell_type": "code",
   "metadata": {
    "id": "90MxG_eRla0W",
    "colab_type": "code",
    "colab": {},
    "pycharm": {
     "name": "#%%\n"
    }
   },
   "source": [
    "!mkdir /data\n",
    "!cp data/cifar100.tar.gz /data/\n",
    "!tar -xf /data/cifar100.tar.gz -C /data/\n",
    "!cp data/test.tar.gz /data\n",
    "!tar -xf /data/test.tar.gz -C /data\n",
    "!cp data/train.tar.gz /data\n",
    "!tar -xf /data/train.tar.gz -C /data/"
   ],
   "execution_count": 5,
   "outputs": [
    {
     "name": "stderr",
     "output_type": "stream",
     "text": [
      "The syntax of the command is incorrect.\n",
      "'cp' is not recognized as an internal or external command,\n",
      "operable program or batch file.\n",
      "tar: Error opening archive: Failed to open '/data/cifar100.tar.gz'\n",
      "'cp' is not recognized as an internal or external command,\n",
      "operable program or batch file.\n",
      "tar: Error opening archive: Failed to open '/data/test.tar.gz'\n",
      "'cp' is not recognized as an internal or external command,\n",
      "operable program or batch file.\n",
      "tar: Error opening archive: Failed to open '/data/train.tar.gz'\n"
     ]
    }
   ]
  },
  {
   "cell_type": "code",
   "metadata": {
    "id": "XvFEFItpl98p",
    "colab_type": "code",
    "colab": {},
    "pycharm": {
     "name": "#%%\n"
    }
   },
   "source": [
    "ls /data"
   ],
   "execution_count": 6,
   "outputs": [
    {
     "name": "stderr",
     "output_type": "stream",
     "text": [
      "Parameter format not correct - \"data\".\n"
     ]
    }
   ]
  },
  {
   "cell_type": "markdown",
   "metadata": {
    "colab_type": "text",
    "id": "DDU5aVgR9QBx",
    "pycharm": {
     "name": "#%% md\n"
    }
   },
   "source": [
    "# Set up GPU and PyTorch\n",
    "\n",
    "First, ensure that your notebook on Colaboratory is set up to use GPU. After opening the notebook on Colaboratory, go to Edit>Notebook settings, select Python 3 under \"Runtime type,\" select GPU under \"Hardware accelerator,\" and save.\n",
    "\n",
    "Next, install PyTorch:"
   ]
  },
  {
   "cell_type": "code",
   "metadata": {
    "colab_type": "code",
    "id": "kjbQtzKT9Uc2",
    "colab": {},
    "pycharm": {
     "name": "#%%\n"
    }
   },
   "source": [
    "!pip3 install torch torchvision"
   ],
   "execution_count": 1,
   "outputs": [
    {
     "name": "stdout",
     "output_type": "stream",
     "text": [
      "Requirement already satisfied: torch in c:\\users\\sheny\\appdata\\local\\programs\\python\\python310\\lib\\site-packages (1.12.1+cu113)\n",
      "Requirement already satisfied: torchvision in c:\\users\\sheny\\appdata\\local\\programs\\python\\python310\\lib\\site-packages (0.13.1+cu113)\n",
      "Requirement already satisfied: typing-extensions in c:\\users\\sheny\\appdata\\local\\programs\\python\\python310\\lib\\site-packages (from torch) (4.4.0)\n",
      "Requirement already satisfied: pillow!=8.3.*,>=5.3.0 in c:\\users\\sheny\\appdata\\local\\programs\\python\\python310\\lib\\site-packages (from torchvision) (9.2.0)\n",
      "Requirement already satisfied: numpy in c:\\users\\sheny\\appdata\\local\\programs\\python\\python310\\lib\\site-packages (from torchvision) (1.23.3)\n",
      "Requirement already satisfied: requests in c:\\users\\sheny\\appdata\\local\\programs\\python\\python310\\lib\\site-packages (from torchvision) (2.25.1)\n",
      "Requirement already satisfied: chardet<5,>=3.0.2 in c:\\users\\sheny\\appdata\\local\\programs\\python\\python310\\lib\\site-packages (from requests->torchvision) (4.0.0)\n",
      "Requirement already satisfied: urllib3<1.27,>=1.21.1 in c:\\users\\sheny\\appdata\\local\\programs\\python\\python310\\lib\\site-packages (from requests->torchvision) (1.26.12)\n",
      "Requirement already satisfied: certifi>=2017.4.17 in c:\\users\\sheny\\appdata\\local\\programs\\python\\python310\\lib\\site-packages (from requests->torchvision) (2022.9.24)\n",
      "Requirement already satisfied: idna<3,>=2.5 in c:\\users\\sheny\\appdata\\local\\programs\\python\\python310\\lib\\site-packages (from requests->torchvision) (2.10)\n"
     ]
    },
    {
     "name": "stderr",
     "output_type": "stream",
     "text": [
      "WARNING: You are using pip version 22.0.4; however, version 22.3.1 is available.\n",
      "You should consider upgrading via the 'C:\\Users\\sheny\\AppData\\Local\\Programs\\Python\\Python310\\python.exe -m pip install --upgrade pip' command.\n"
     ]
    }
   ]
  },
  {
   "cell_type": "markdown",
   "metadata": {
    "colab_type": "text",
    "id": "u_BekZYY9Vzx",
    "pycharm": {
     "name": "#%% md\n"
    }
   },
   "source": [
    "Make sure that pytorch is installed and works with GPU:"
   ]
  },
  {
   "cell_type": "code",
   "metadata": {
    "colab_type": "code",
    "id": "8TXSJWQa9efx",
    "colab": {},
    "pycharm": {
     "name": "#%%\n"
    }
   },
   "source": [
    "import torch\n",
    "a = torch.Tensor([1]).cuda()\n",
    "print(a)\n"
   ],
   "execution_count": 2,
   "outputs": [
    {
     "name": "stdout",
     "output_type": "stream",
     "text": [
      "tensor([1.], device='cuda:0')\n"
     ]
    }
   ]
  },
  {
   "cell_type": "code",
   "metadata": {
    "id": "OEeRNsCjRXZK",
    "colab_type": "code",
    "colab": {},
    "pycharm": {
     "name": "#%%\n"
    }
   },
   "source": [
    "torch.cuda.is_available()"
   ],
   "execution_count": 3,
   "outputs": [
    {
     "data": {
      "text/plain": "True"
     },
     "execution_count": 3,
     "metadata": {},
     "output_type": "execute_result"
    }
   ]
  },
  {
   "cell_type": "markdown",
   "metadata": {
    "id": "qChgLJERsvZP",
    "colab_type": "text",
    "pycharm": {
     "name": "#%% md\n"
    }
   },
   "source": [
    "# Part 1"
   ]
  },
  {
   "cell_type": "code",
   "metadata": {
    "id": "IlyCnvf6WzjR",
    "colab_type": "code",
    "colab": {},
    "pycharm": {
     "name": "#%%\n"
    }
   },
   "source": [
    "\"\"\"Headers\"\"\"\n",
    "\n",
    "from __future__ import print_function\n",
    "from PIL import Image\n",
    "import os\n",
    "import os.path\n",
    "import numpy as np\n",
    "import sys\n",
    "if sys.version_info[0] == 2:\n",
    "    import cPickle as pickle\n",
    "else:\n",
    "    import pickle\n",
    "\n",
    "import torch.utils.data as data\n",
    "from torchvision.datasets.utils import download_url, check_integrity\n",
    "\n",
    "import csv\n",
    "%matplotlib inline\n",
    "import matplotlib\n",
    "import matplotlib.pyplot as plt\n",
    "import numpy as np\n",
    "import os.path\n",
    "import sys\n",
    "import torch\n",
    "import torch.utils.data\n",
    "import torchvision\n",
    "import torchvision.transforms as transforms\n",
    "\n",
    "from torch.autograd import Variable\n",
    "import torch.nn as nn\n",
    "import torch.nn.functional as F\n",
    "\n",
    "np.random.seed(111)\n",
    "torch.cuda.manual_seed_all(111)\n",
    "torch.manual_seed(111)"
   ],
   "execution_count": 4,
   "outputs": [
    {
     "data": {
      "text/plain": "<torch._C.Generator at 0x1ab6b89e610>"
     },
     "execution_count": 4,
     "metadata": {},
     "output_type": "execute_result"
    }
   ]
  },
  {
   "cell_type": "markdown",
   "metadata": {
    "id": "137GhZMrcTuj",
    "colab_type": "text",
    "pycharm": {
     "name": "#%% md\n"
    }
   },
   "source": [
    "\n",
    "\n",
    "## **Just execute the cell below. This is the dataloader. DO NOT CHANGE ANYTHING IN HERE!**\n"
   ]
  },
  {
   "cell_type": "code",
   "metadata": {
    "id": "URUH4fzzWqKr",
    "colab_type": "code",
    "colab": {},
    "pycharm": {
     "name": "#%%\n"
    }
   },
   "source": [
    "\"\"\"\"\"\"\n",
    "\n",
    "class CIFAR10_SFU_CV(data.Dataset):\n",
    "    \"\"\"`CIFAR10 <https://www.cs.toronto.edu/~kriz/cifar.html>`_ Dataset.\n",
    "\n",
    "    Args:\n",
    "        root (string): Root directory of dataset where directory\n",
    "            ``cifar-10-batches-py`` exists or will be saved to if download is set to True.\n",
    "        train (bool, optional): If True, creates dataset from training set, otherwise\n",
    "            creates from test set.\n",
    "        transform (callable, optional): A function/transform that  takes in an PIL image\n",
    "            and returns a transformed version. E.g, ``transforms.RandomCrop``\n",
    "        target_transform (callable, optional): A function/transform that takes in the\n",
    "            target and transforms it.\n",
    "        download (bool, optional): If true, downloads the dataset from the internet and\n",
    "            puts it in root directory. If dataset is already downloaded, it is not\n",
    "            downloaded again.\n",
    "\n",
    "    \"\"\"\n",
    "    base_folder = 'cifar100'\n",
    "    url = \"https://www.cs.toronto.edu/~kriz/cifar-10-python.tar.gz\"\n",
    "    filename = \"cifar100.tar.gz\"\n",
    "    tgz_md5 = 'c58f30108f718f92721af3b95e74349a'\n",
    "    train_list = [\n",
    "        ['data_batch_1', 'c99cafc152244af753f735de768cd75f'],\n",
    "        ['data_batch_2', 'd4bba439e000b95fd0a9bffe97cbabec'],\n",
    "        ['data_batch_3', '54ebc095f3ab1f0389bbae665268c751'],\n",
    "        ['data_batch_4', '634d18415352ddfa80567beed471001a'],\n",
    "        ['data_batch_5', '482c414d41f54cd18b22e5b47cb7c3cb'],\n",
    "    ]\n",
    "\n",
    "    test_list = [\n",
    "        ['test_batch', '40351d587109b95175f43aff81a1287e'],\n",
    "    ]\n",
    "\n",
    "    def __init__(self, root, fold=\"train\",\n",
    "                 transform=None, target_transform=None,\n",
    "                 download=False):\n",
    "        \n",
    "        fold = fold.lower()\n",
    "\n",
    "        self.train = False\n",
    "        self.test = False\n",
    "        self.val = False\n",
    "\n",
    "        if fold == \"train\":\n",
    "            self.train = True\n",
    "        elif fold == \"test\":\n",
    "            self.test = True\n",
    "        elif fold == \"val\":\n",
    "            self.val = True\n",
    "        else:\n",
    "            raise RuntimeError(\"Not train-val-test\")\n",
    "\n",
    "\n",
    "        self.root = os.path.expanduser(root)\n",
    "        self.transform = transform\n",
    "        self.target_transform = target_transform\n",
    "\n",
    "        fpath = os.path.join(root, self.filename)\n",
    "        if not self._check_integrity():\n",
    "            raise RuntimeError('Dataset not found or corrupted.' +\n",
    "                               ' Download it and extract the file again.')\n",
    "\n",
    "        # now load the picked numpy arrays\n",
    "        if self.train or self.val:\n",
    "            self.train_data = []\n",
    "            self.train_labels = []\n",
    "            for fentry in self.train_list:\n",
    "                f = fentry[0]\n",
    "                file = os.path.join(self.root, self.base_folder, f)\n",
    "                fo = open(file, 'rb')\n",
    "                if sys.version_info[0] == 2:\n",
    "                    entry = pickle.load(fo)\n",
    "                else:\n",
    "                    entry = pickle.load(fo, encoding='latin1')\n",
    "                self.train_data.append(entry['data'])\n",
    "                if 'labels' in entry:\n",
    "                    self.train_labels += entry['labels']\n",
    "                else:\n",
    "                    self.train_labels += entry['fine_labels']\n",
    "                fo.close()\n",
    "\n",
    "            self.train_data = np.concatenate(self.train_data)\n",
    "            self.train_data = self.train_data.reshape((50000, 3, 32, 32))\n",
    "            self.train_data = self.train_data.transpose((0, 2, 3, 1))  # convert to HWC\n",
    "            \n",
    "            p = np.arange(0,50000,10)\n",
    "            mask_train = np.ones((50000,), dtype=bool)\n",
    "            mask_train[p] = False\n",
    "            mask_val = np.zeros((50000,), dtype=bool)\n",
    "            mask_val[p] = True\n",
    "\n",
    "            copy_all_data = np.array(self.train_data)\n",
    "            self.val_data = np.array(copy_all_data[mask_val])\n",
    "            self.train_data = np.array(copy_all_data[mask_train])\n",
    "            \n",
    "            copy_all_labels = np.array(self.train_labels)\n",
    "            self.val_labels = np.array(copy_all_labels[mask_val])\n",
    "            self.train_labels = np.array(copy_all_labels[mask_train])\n",
    "\n",
    "        elif self.test:\n",
    "            f = self.test_list[0][0]\n",
    "            file = os.path.join(self.root, self.base_folder, f)\n",
    "            fo = open(file, 'rb')\n",
    "            if sys.version_info[0] == 2:\n",
    "                entry = pickle.load(fo)\n",
    "            else:\n",
    "                entry = pickle.load(fo, encoding='latin1')\n",
    "            self.test_data = entry['data']\n",
    "\n",
    "            if 'labels' in entry:\n",
    "                self.test_labels = entry['labels']\n",
    "            else:\n",
    "                self.test_labels = entry['fine_labels']\n",
    "            fo.close()\n",
    "            self.test_data = self.test_data.reshape((10000, 3, 32, 32))\n",
    "            self.test_data = self.test_data.transpose((0, 2, 3, 1))  # convert to HWC\n",
    "\n",
    "    def __getitem__(self, index):\n",
    "        \"\"\"\n",
    "        Args:\n",
    "            index (int): Index\n",
    "\n",
    "        Returns:\n",
    "            tuple: (image, target) where target is index of the target class.\n",
    "        \"\"\"\n",
    "        if self.train:\n",
    "            img, target = self.train_data[index], self.train_labels[index]\n",
    "        elif self.test:\n",
    "            img, target = self.test_data[index], self.test_labels[index]\n",
    "        elif self.val:\n",
    "            img, target = self.val_data[index], self.val_labels[index]\n",
    "\n",
    "        # doing this so that it is consistent with all other datasets\n",
    "        # to return a PIL Image\n",
    "        img = Image.fromarray(img)\n",
    "\n",
    "        if self.transform is not None:\n",
    "            img = self.transform(img)\n",
    "\n",
    "        if self.target_transform is not None:\n",
    "            target = self.target_transform(target)\n",
    "\n",
    "        return img, target\n",
    "\n",
    "    def __len__(self):\n",
    "        if self.train:\n",
    "            return len(self.train_data)\n",
    "        elif self.test:\n",
    "            return len(self.test_data)\n",
    "        elif self.val:\n",
    "            return len(self.val_data)\n",
    "\n",
    "    def _check_integrity(self):\n",
    "        root = self.root\n",
    "        for fentry in (self.train_list + self.test_list):\n",
    "            filename, md5 = fentry[0], fentry[1]\n",
    "            fpath = os.path.join(root, self.base_folder, filename)\n",
    "            if not check_integrity(fpath, md5):\n",
    "                return False\n",
    "        return True\n",
    "\n",
    "    def __repr__(self):\n",
    "        fmt_str = 'Dataset ' + self.__class__.__name__ + '\\n'\n",
    "        fmt_str += '    Number of datapoints: {}\\n'.format(self.__len__())\n",
    "        tmp = 'train' if self.train is True else 'test'\n",
    "        fmt_str += '    Split: {}\\n'.format(tmp)\n",
    "        fmt_str += '    Root Location: {}\\n'.format(self.root)\n",
    "        tmp = '    Transforms (if any): '\n",
    "        fmt_str += '{0}{1}\\n'.format(tmp, self.transform.__repr__().replace('\\n', '\\n' + ' ' * len(tmp)))\n",
    "        tmp = '    Target Transforms (if any): '\n",
    "        fmt_str += '{0}{1}'.format(tmp, self.target_transform.__repr__().replace('\\n', '\\n' + ' ' * len(tmp)))\n",
    "        return fmt_str\n",
    "\n",
    "\n",
    "class CIFAR100_SFU_CV(CIFAR10_SFU_CV):\n",
    "    \"\"\"`CIFAR100 <https://www.cs.toronto.edu/~kriz/cifar.html>`_ Dataset.\n",
    "\n",
    "    This is a subclass of the `CIFAR10` Dataset.\n",
    "    \"\"\"\n",
    "    base_folder = 'cifar100'\n",
    "    filename = \"cifar100.tar.gz\"\n",
    "    tgz_md5 = 'e68a4c763591787a0b39fe2209371f32'\n",
    "    train_list = [\n",
    "        ['train_cs543', '49eee854445c1e2ebe796cd93c20bb0f'],\n",
    "    ]\n",
    "\n",
    "    test_list = [\n",
    "        ['test_cs543', 'd3fe9f6a9251bd443f428f896d27384f'],\n",
    "    ]"
   ],
   "execution_count": 5,
   "outputs": []
  },
  {
   "cell_type": "markdown",
   "metadata": {
    "id": "JpFMv7HtcII4",
    "colab_type": "text",
    "pycharm": {
     "name": "#%% md\n"
    }
   },
   "source": [
    "This file has been adapted from the easy-to-use tutorial released by PyTorch:\n",
    "http://pytorch.org/tutorials/beginner/blitz/cifar10_tutorial.html\n",
    "\n",
    "Training an image classifier\n",
    "----------------------------\n",
    "\n",
    "We will do the following steps in order:\n",
    "\n",
    "1. Load the CIFAR100_SFU_CV training, validation and test datasets using\n",
    "   torchvision. Use torchvision.transforms to apply transforms on the\n",
    "   dataset.\n",
    "2. Define a Convolution Neural Network - BaseNet\n",
    "3. Define a loss function and optimizer\n",
    "4. Train the network on training data and check performance on val set.\n",
    "   Plot train loss and validation accuracies.\n",
    "5. Try the network on test data and create .csv file for submission to kaggle"
   ]
  },
  {
   "cell_type": "code",
   "metadata": {
    "id": "Ld6juH34dWWq",
    "colab_type": "code",
    "colab": {},
    "pycharm": {
     "name": "#%%\n"
    }
   },
   "source": [
    "# <<TODO#5>> Based on the val set performance, decide how many\n",
    "# epochs are apt for your model.\n",
    "# ---------\n",
    "EPOCHS = 50\n",
    "# ---------\n",
    "\n",
    "IS_GPU = True\n",
    "TEST_BS = 256\n",
    "TOTAL_CLASSES = 100\n",
    "TRAIN_BS = 32\n",
    "PATH_TO_CIFAR100_SFU_CV = \"/data/\""
   ],
   "execution_count": 28,
   "outputs": []
  },
  {
   "cell_type": "code",
   "metadata": {
    "id": "0ENlTTMi-qFD",
    "colab_type": "code",
    "colab": {},
    "pycharm": {
     "name": "#%%\n"
    }
   },
   "source": [
    "ls /data/cifar100/"
   ],
   "execution_count": 29,
   "outputs": [
    {
     "name": "stderr",
     "output_type": "stream",
     "text": [
      "Parameter format not correct - \"data\".\n"
     ]
    }
   ]
  },
  {
   "cell_type": "code",
   "metadata": {
    "id": "d57CSAj1dfix",
    "colab_type": "code",
    "colab": {},
    "pycharm": {
     "name": "#%%\n"
    }
   },
   "source": [
    "def calculate_val_accuracy(valloader, is_gpu):\n",
    "    \"\"\" Util function to calculate val set accuracy,\n",
    "    both overall and per class accuracy\n",
    "    Args:\n",
    "        valloader (torch.utils.data.DataLoader): val set \n",
    "        is_gpu (bool): whether to run on GPU\n",
    "    Returns:\n",
    "        tuple: (overall accuracy, class level accuracy)\n",
    "    \"\"\"    \n",
    "    correct = 0.\n",
    "    total = 0.\n",
    "    predictions = []\n",
    "\n",
    "    class_correct = list(0. for i in range(TOTAL_CLASSES))\n",
    "    class_total = list(0. for i in range(TOTAL_CLASSES))\n",
    "\n",
    "    for data in valloader:\n",
    "        images, labels = data\n",
    "        if is_gpu:\n",
    "            images = images.cuda()\n",
    "            labels = labels.cuda()\n",
    "        outputs = net(Variable(images))\n",
    "        _, predicted = torch.max(outputs.data, 1)\n",
    "        predictions.extend(list(predicted.cpu().numpy()))\n",
    "        total += labels.size(0)\n",
    "        correct += (predicted == labels).sum()\n",
    "\n",
    "        c = (predicted == labels).squeeze()\n",
    "        for i in range(len(labels)):\n",
    "            label = labels[i]\n",
    "            class_correct[label] += c[i].cpu()\n",
    "            class_total[label] += 1\n",
    "\n",
    "    class_accuracy = 100 * np.divide(class_correct, class_total)\n",
    "    return 100*correct/total, class_accuracy"
   ],
   "execution_count": 30,
   "outputs": []
  },
  {
   "cell_type": "markdown",
   "metadata": {
    "id": "aq2qOUaJeAWJ",
    "colab_type": "text",
    "pycharm": {
     "name": "#%% md\n"
    }
   },
   "source": [
    "1.** Loading CIFAR100_SFU_CV**\n",
    "\n",
    "We modify the dataset to create CIFAR100_SFU_CV dataset which consist of 45000 training images (450 of each class), 5000 validation images (50 of each class) and 10000 test images (100 of each class). The train and val datasets have labels while all the labels in the test set are set to 0.\n"
   ]
  },
  {
   "cell_type": "code",
   "execution_count": 9,
   "outputs": [
    {
     "name": "stdout",
     "output_type": "stream",
     "text": [
      "Train set size: 45000\n",
      "Val set size: 5000\n",
      "Test set size: 10000\n"
     ]
    }
   ],
   "source": [
    "# The output of torchvision datasets are PILImage images of range [0, 1].\n",
    "# Using transforms.ToTensor(), transform them to Tensors of normalized range\n",
    "# [-1, 1].\n",
    "\n",
    "\n",
    "# <<TODO#1>> Use transforms.Normalize() with the right parameters to \n",
    "# make the data well conditioned (zero mean, std dev=1) for improved training.\n",
    "# <<TODO#2>> Try using transforms.RandomCrop() and/or transforms.RandomHorizontalFlip()\n",
    "# to augment training data.\n",
    "# After your edits, make sure that test_transform should have the same data\n",
    "# normalization parameters as train_transform\n",
    "# You shouldn't have any data augmentation in test_transform (val or test data is never augmented).\n",
    "# ---------------------\n",
    "\n",
    "train_transform = transforms.Compose(\n",
    "    [transforms.ToTensor(),\n",
    "     transforms.Normalize(0,1),\n",
    "     transforms.RandomHorizontalFlip(0.5),\n",
    "     transforms.RandomCrop([32,32])])\n",
    "test_transform = transforms.Compose(\n",
    "    [transforms.ToTensor()])\n",
    "# ---------------------\n",
    "\n",
    "trainset = CIFAR100_SFU_CV(root=PATH_TO_CIFAR100_SFU_CV, fold=\"train\",\n",
    "                                        download=True, transform=train_transform)\n",
    "trainloader = torch.utils.data.DataLoader(trainset, batch_size=TRAIN_BS,\n",
    "                                          shuffle=True, num_workers=0)\n",
    "print(\"Train set size: \"+str(len(trainset)))\n",
    "\n",
    "valset = CIFAR100_SFU_CV(root=PATH_TO_CIFAR100_SFU_CV, fold=\"val\",\n",
    "                                       download=True, transform=test_transform)\n",
    "valloader = torch.utils.data.DataLoader(valset, batch_size=TEST_BS,\n",
    "                                         shuffle=False, num_workers=0)\n",
    "print(\"Val set size: \"+str(len(valset)))\n",
    "\n",
    "testset = CIFAR100_SFU_CV(root=PATH_TO_CIFAR100_SFU_CV, fold=\"test\",\n",
    "                                       download=True, transform=test_transform)\n",
    "testloader = torch.utils.data.DataLoader(testset, batch_size=TEST_BS,\n",
    "                                         shuffle=False, num_workers=0)\n",
    "print(\"Test set size: \"+str(len(testset)))\n",
    "\n",
    "# The 100 classes for CIFAR100\n",
    "classes = ['apple', 'aquarium_fish', 'baby', 'bear', 'beaver', 'bed', 'bee', 'beetle', 'bicycle', 'bottle', 'bowl', 'boy', 'bridge', 'bus', 'butterfly', 'camel', 'can', 'castle', 'caterpillar', 'cattle', 'chair', 'chimpanzee', 'clock', 'cloud', 'cockroach', 'couch', 'crab', 'crocodile', 'cup', 'dinosaur', 'dolphin', 'elephant', 'flatfish', 'forest', 'fox', 'girl', 'hamster', 'house', 'kangaroo', 'keyboard', 'lamp', 'lawn_mower', 'leopard', 'lion', 'lizard', 'lobster', 'man', 'maple_tree', 'motorcycle', 'mountain', 'mouse', 'mushroom', 'oak_tree', 'orange', 'orchid', 'otter', 'palm_tree', 'pear', 'pickup_truck', 'pine_tree', 'plain', 'plate', 'poppy', 'porcupine', 'possum', 'rabbit', 'raccoon', 'ray', 'road', 'rocket', 'rose', 'sea', 'seal', 'shark', 'shrew', 'skunk', 'skyscraper', 'snail', 'snake', 'spider', 'squirrel', 'streetcar', 'sunflower', 'sweet_pepper', 'table', 'tank', 'telephone', 'television', 'tiger', 'tractor', 'train', 'trout', 'tulip', 'turtle', 'wardrobe', 'whale', 'willow_tree', 'wolf', 'woman', 'worm']\n",
    "\n"
   ],
   "metadata": {
    "collapsed": false,
    "pycharm": {
     "name": "#%%\n"
    }
   }
  },
  {
   "cell_type": "code",
   "execution_count": 31,
   "outputs": [
    {
     "data": {
      "text/plain": "<Figure size 640x480 with 0 Axes>"
     },
     "metadata": {},
     "output_type": "display_data"
    },
    {
     "data": {
      "text/plain": "<Figure size 640x480 with 0 Axes>"
     },
     "metadata": {},
     "output_type": "display_data"
    },
    {
     "data": {
      "text/plain": "<Figure size 640x480 with 0 Axes>"
     },
     "metadata": {},
     "output_type": "display_data"
    },
    {
     "data": {
      "text/plain": "<Figure size 640x480 with 1 Axes>",
      "image/png": "[encoded data removed]"
     },
     "metadata": {},
     "output_type": "display_data"
    },
    {
     "name": "stdout",
     "output_type": "stream",
     "text": [
      "sunflower\n"
     ]
    }
   ],
   "source": [
    "dataiter = iter(trainloader)\n",
    "image, lable = dataiter.next()\n",
    "npimg = np.transpose(image.numpy())\n",
    "plt.imshow(npimg[:,:,:,1])\n",
    "plt.show()\n",
    "print(classes[lable[1].cpu()])"
   ],
   "metadata": {
    "collapsed": false,
    "pycharm": {
     "name": "#%%\n"
    }
   }
  },
  {
   "cell_type": "code",
   "execution_count": 36,
   "outputs": [],
   "source": [
    "########################################################################\n",
    "## Res Network block definition\n",
    "## https://arxiv.org/pdf/1512.03385.pdf\n",
    "########################################################################\n",
    "\n",
    "class ResidualBlock(nn.Module):\n",
    "    def __init__(self, in_channel, out_channel, stride = 1, kernel=3):\n",
    "        super(ResidualBlock, self).__init__()\n",
    "        self.left = nn.Sequential(\n",
    "            nn.Conv2d(in_channels=in_channel, out_channels=out_channel, kernel_size=kernel, stride=stride, padding=1,bias=False),\n",
    "            nn.BatchNorm2d(out_channel),\n",
    "            nn.ReLU(inplace=True),\n",
    "            nn.Conv2d(in_channels=out_channel,out_channels=out_channel, kernel_size=kernel, stride=1,padding=1,bias=False),\n",
    "            nn.BatchNorm2d(out_channel)\n",
    "        )\n",
    "        self.shortcut = nn.Sequential()\n",
    "        if stride != 1 or in_channel != out_channel or kernel != 3:\n",
    "            self.shortcut = nn.Sequential(\n",
    "                nn.Conv2d(in_channels=in_channel,out_channels=out_channel,kernel_size=(kernel-2),stride=stride, bias=False),\n",
    "                nn.BatchNorm2d(out_channel)\n",
    "            )\n",
    "    def forward(self,x):\n",
    "        out = self.left(x)\n",
    "        out += self.shortcut(x)\n",
    "        out = F.relu(out)\n",
    "        return out"
   ],
   "metadata": {
    "collapsed": false,
    "pycharm": {
     "name": "#%%\n"
    }
   }
  },
  {
   "cell_type": "code",
   "execution_count": 37,
   "outputs": [],
   "source": [
    "########################################################################\n",
    "# 2. Define a Convolution Neural Network\n",
    "# ^^^^^^^^^^^^^^^^^^^^^^^^^^^^^^^^^^^^^^\n",
    "# We provide a basic network that you should understand, run and\n",
    "# eventually improve\n",
    "# <<TODO>> Add more conv layers\n",
    "# <<TODO>> Add more fully connected (fc) layers\n",
    "# <<TODO>> Add regularization layers like Batchnorm.\n",
    "#          nn.BatchNorm2d after conv layers:\n",
    "#          http://pytorch.org/docs/master/nn.html#batchnorm2d\n",
    "#          nn.BatchNorm1d after fc layers:\n",
    "#          http://pytorch.org/docs/master/nn.html#batchnorm1d\n",
    "# This is a good resource for developing a CNN for classification:\n",
    "# http://cs231n.github.io/convolutional-networks/#layers\n",
    "\n",
    "import torch.nn as nn\n",
    "import torch.nn.functional as F\n",
    "\n",
    "class BaseNet(nn.Module):\n",
    "    def __init__(self, kernel = 3):\n",
    "        super(BaseNet, self).__init__()\n",
    "\n",
    "        # <<TODO#3>> Add more conv layers with increasing\n",
    "        # output channels\n",
    "        # <<TODO#4>> Add normalization layers after conv\n",
    "        # layers (nn.BatchNorm2d)\n",
    "\n",
    "        # Also experiment with kernel size in conv2d layers (say 3\n",
    "        # inspired from VGGNet)\n",
    "        # To keep it simple, keep the same kernel size\n",
    "        # (right now set to 5) in all conv layers.\n",
    "        # Do not have a maxpool layer after every conv layer in your\n",
    "        # deeper network as it leads to too much loss of information.\n",
    "        self.Res_channel = 64\n",
    "        self.conv1 = nn.Sequential(\n",
    "            nn.Conv2d(3, 64, kernel_size=kernel,stride=1,padding=1,bias=False),\n",
    "            nn.BatchNorm2d(64),\n",
    "            nn.ReLU()\n",
    "        )\n",
    "        self.pool = nn.MaxPool2d(2, 2)\n",
    "        self.Res1 = self.my_Res_block(block=ResidualBlock, out_channel=64, num=2, stride=1, kernel=kernel)\n",
    "        self.Res2 = self.my_Res_block(block=ResidualBlock, out_channel=128, num=2, stride=1, kernel=kernel)\n",
    "        self.Res3 = self.my_Res_block(block=ResidualBlock, out_channel=256, num=2, stride=1, kernel=kernel)\n",
    "\n",
    "        # <<TODO#3>> Add more linear (fc) layers\n",
    "        # <<TODO#4>> Add normalization layers after linear and\n",
    "        # experiment inserting them before or after ReLU (nn.BatchNorm1d)\n",
    "        # More on nn.sequential:\n",
    "        # http://pytorch.org/docs/master/nn.html#torch.nn.Sequential\n",
    "\n",
    "        self.fc_net = nn.Sequential(\n",
    "            nn.Linear(4096, 1024),\n",
    "            nn.BatchNorm1d(1024),\n",
    "            nn.ReLU(inplace=True),\n",
    "            nn.Linear(1024, 512),\n",
    "            nn.BatchNorm1d(512),\n",
    "            nn.ReLU(inplace=True),\n",
    "            nn.Linear(512, TOTAL_CLASSES*2),\n",
    "            nn.BatchNorm1d(TOTAL_CLASSES*2),\n",
    "            nn.ReLU(inplace=True),\n",
    "            nn.Linear(TOTAL_CLASSES*2, TOTAL_CLASSES),\n",
    "        )\n",
    "\n",
    "    def my_Res_block(self, block, out_channel, num, stride, kernel=3):\n",
    "        strides = [stride]+[1]*(num - 1)\n",
    "        layers = []\n",
    "        for stride in strides:\n",
    "            layers.append(block(self.Res_channel, out_channel, stride, kernel))\n",
    "            self.Res_channel = out_channel\n",
    "        return nn.Sequential(*layers)\n",
    "\n",
    "    def forward(self, x):\n",
    "\n",
    "        # <<TODO#3&#4>> Based on the above edits, you'll have\n",
    "        # to edit the forward pass description here.\n",
    "\n",
    "        # x = self.pool(F.relu(self.conv1(x)))\n",
    "        out = self.conv1(x)\n",
    "        out = self.pool(out)\n",
    "        out = self.Res1(out)\n",
    "        out = self.Res2(out)\n",
    "        out = self.Res3(out)\n",
    "        out = F.avg_pool2d(out,4)\n",
    "        out = out.view(out.size(0),-1)\n",
    "        out  = self.fc_net(out)\n",
    "\n",
    "        # No softmax is needed as the loss function in step 3\n",
    "        # takes care of that\n",
    "\n",
    "        return out\n",
    "\n",
    "# Create an instance of the nn.module class defined above:\n",
    "net = BaseNet()\n",
    "\n",
    "# For training on GPU, we need to transfer net and data onto the GPU\n",
    "# http://pytorch.org/tutorials/beginner/blitz/cifar10_tutorial.html#training-on-gpu\n",
    "if IS_GPU:\n",
    "    net = net.cuda()\n"
   ],
   "metadata": {
    "collapsed": false,
    "pycharm": {
     "name": "#%%\n"
    }
   }
  },
  {
   "cell_type": "code",
   "execution_count": 38,
   "outputs": [],
   "source": [
    "########################################################################\n",
    "# 3. Define a Loss function and optimizer\n",
    "# ^^^^^^^^^^^^^^^^^^^^^^^^^^^^^^^^^^^^^^^\n",
    "# Here we use Cross-Entropy loss and SGD with momentum.\n",
    "# The CrossEntropyLoss criterion already includes softmax within its\n",
    "# implementation. That's why we don't use a softmax in our model\n",
    "# definition.\n",
    "\n",
    "import torch.optim as optim\n",
    "criterion = nn.CrossEntropyLoss()\n",
    "\n",
    "# Tune the learning rate.\n",
    "# See whether the momentum is useful or not\n",
    "# optimizer = optim.Adam(net.parameters(), lr=0.005, betas=(0.9, 0.999), eps=1e-08, weight_decay=0, amsgrad=False)\n",
    "optimizer = optim.SGD(net.parameters(),lr=0.01,momentum=False)\n",
    "plt.ioff()\n",
    "fig = plt.figure()\n",
    "train_loss_over_epochs = []\n",
    "val_accuracy_over_epochs = []\n"
   ],
   "metadata": {
    "collapsed": false,
    "pycharm": {
     "name": "#%%\n"
    }
   }
  },
  {
   "cell_type": "code",
   "metadata": {
    "id": "og2F2MLhs7L6",
    "colab_type": "text",
    "pycharm": {
     "name": "#%%\n"
    }
   },
   "source": [
    "########################################################################\n",
    "# 4. Train the network\n",
    "# ^^^^^^^^^^^^^^^^^^^^\n",
    "#\n",
    "# We simply have to loop over our data iterator, and feed the inputs to the\n",
    "# network and optimize. We evaluate the validation accuracy at each\n",
    "# epoch and plot these values over the number of epochs\n",
    "# Nothing to change here\n",
    "# -----------------------------\n",
    "for epoch in range(EPOCHS):  # loop over the dataset multiple times\n",
    "\n",
    "    running_loss = 0.0\n",
    "    for i, data in enumerate(trainloader, 0):\n",
    "        # get the inputs\n",
    "        inputs, labels = data\n",
    "        labels = labels.type(torch.LongTensor)\n",
    "        if IS_GPU:\n",
    "            inputs = inputs.cuda()\n",
    "            labels = labels.cuda()\n",
    "\n",
    "        # wrap them in Variable\n",
    "        inputs, labels = Variable(inputs), Variable(labels)\n",
    "        # zero the parameter gradients\n",
    "        optimizer.zero_grad()\n",
    "\n",
    "        # forward + backward + optimize\n",
    "        outputs = net(inputs)\n",
    "        loss = criterion(outputs, labels)\n",
    "        loss.backward()\n",
    "        optimizer.step()\n",
    "\n",
    "        # print statistics\n",
    "        running_loss += loss.item()\n",
    "    \n",
    "    # Normalizing the loss by the total number of train batches\n",
    "    running_loss/=len(trainloader)\n",
    "    print('[%d] loss: %.3f' %\n",
    "          (epoch + 1, running_loss))\n",
    "\n",
    "    # Scale of 0.0 to 100.0\n",
    "    # Calculate validation set accuracy of the existing model\n",
    "    val_accuracy, val_classwise_accuracy = \\\n",
    "        calculate_val_accuracy(valloader, IS_GPU)\n",
    "    print('Accuracy of the network on the val images: %d %%' % (val_accuracy))\n",
    "\n",
    "    # # Optionally print classwise accuracies\n",
    "    # for c_i in range(TOTAL_CLASSES):\n",
    "    #     print('Accuracy of %5s : %2d %%' % (\n",
    "    #         classes[c_i], 100 * val_classwise_accuracy[c_i]))\n",
    "\n",
    "    train_loss_over_epochs.append(running_loss)\n",
    "    val_accuracy_over_epochs.append(val_accuracy.cpu())\n",
    "# -----------------------------\n",
    "\n",
    "\n",
    "# Plot train loss over epochs and val set accuracy over epochs\n",
    "# Nothing to change here\n",
    "# -------------\n",
    "plt.subplot(2, 1, 1)\n",
    "plt.ylabel('Train loss')\n",
    "plt.plot(np.arange(EPOCHS), train_loss_over_epochs, 'k-')\n",
    "plt.title('train loss and val accuracy')\n",
    "plt.xticks(np.arange(EPOCHS, dtype=int))\n",
    "plt.grid(True)\n",
    "\n",
    "\n",
    "plt.subplot(2, 1, 2)\n",
    "plt.plot(np.arange(EPOCHS), val_accuracy_over_epochs, 'b-')\n",
    "plt.ylabel('Val accuracy')\n",
    "plt.xlabel('Epochs')\n",
    "plt.xticks(np.arange(EPOCHS, dtype=int))\n",
    "plt.grid(True)\n",
    "plt.savefig(\"plot.png\")\n",
    "plt.close(fig)\n",
    "print('Finished Training')\n",
    "# -------------"
   ],
   "execution_count": 39,
   "outputs": [
    {
     "name": "stdout",
     "output_type": "stream",
     "text": [
      "[1] loss: 3.720\n",
      "Accuracy of the network on the val images: 24 %\n",
      "[2] loss: 2.928\n",
      "Accuracy of the network on the val images: 35 %\n",
      "[3] loss: 2.440\n",
      "Accuracy of the network on the val images: 39 %\n",
      "[4] loss: 2.103\n",
      "Accuracy of the network on the val images: 45 %\n",
      "[5] loss: 1.853\n",
      "Accuracy of the network on the val images: 48 %\n",
      "[6] loss: 1.649\n",
      "Accuracy of the network on the val images: 49 %\n",
      "[7] loss: 1.464\n",
      "Accuracy of the network on the val images: 51 %\n",
      "[8] loss: 1.304\n",
      "Accuracy of the network on the val images: 54 %\n",
      "[9] loss: 1.158\n",
      "Accuracy of the network on the val images: 55 %\n",
      "[10] loss: 1.021\n",
      "Accuracy of the network on the val images: 54 %\n",
      "[11] loss: 0.899\n",
      "Accuracy of the network on the val images: 56 %\n",
      "[12] loss: 0.791\n",
      "Accuracy of the network on the val images: 55 %\n",
      "[13] loss: 0.684\n",
      "Accuracy of the network on the val images: 55 %\n",
      "[14] loss: 0.585\n",
      "Accuracy of the network on the val images: 54 %\n",
      "[15] loss: 0.500\n",
      "Accuracy of the network on the val images: 56 %\n",
      "[16] loss: 0.426\n",
      "Accuracy of the network on the val images: 58 %\n",
      "[17] loss: 0.356\n",
      "Accuracy of the network on the val images: 56 %\n",
      "[18] loss: 0.293\n",
      "Accuracy of the network on the val images: 57 %\n",
      "[19] loss: 0.246\n",
      "Accuracy of the network on the val images: 56 %\n",
      "[20] loss: 0.209\n",
      "Accuracy of the network on the val images: 57 %\n",
      "[21] loss: 0.169\n",
      "Accuracy of the network on the val images: 58 %\n",
      "[22] loss: 0.145\n",
      "Accuracy of the network on the val images: 55 %\n",
      "[23] loss: 0.125\n",
      "Accuracy of the network on the val images: 54 %\n",
      "[24] loss: 0.105\n",
      "Accuracy of the network on the val images: 58 %\n",
      "[25] loss: 0.091\n",
      "Accuracy of the network on the val images: 57 %\n",
      "[26] loss: 0.074\n",
      "Accuracy of the network on the val images: 59 %\n",
      "[27] loss: 0.062\n",
      "Accuracy of the network on the val images: 59 %\n",
      "[28] loss: 0.056\n",
      "Accuracy of the network on the val images: 59 %\n",
      "[29] loss: 0.046\n",
      "Accuracy of the network on the val images: 60 %\n",
      "[30] loss: 0.039\n",
      "Accuracy of the network on the val images: 59 %\n",
      "[31] loss: 0.041\n",
      "Accuracy of the network on the val images: 58 %\n",
      "[32] loss: 0.035\n",
      "Accuracy of the network on the val images: 61 %\n",
      "[33] loss: 0.027\n",
      "Accuracy of the network on the val images: 59 %\n",
      "[34] loss: 0.026\n",
      "Accuracy of the network on the val images: 60 %\n",
      "[35] loss: 0.022\n",
      "Accuracy of the network on the val images: 60 %\n",
      "[36] loss: 0.021\n",
      "Accuracy of the network on the val images: 60 %\n",
      "[37] loss: 0.019\n",
      "Accuracy of the network on the val images: 60 %\n",
      "[38] loss: 0.017\n",
      "Accuracy of the network on the val images: 60 %\n",
      "[39] loss: 0.016\n",
      "Accuracy of the network on the val images: 61 %\n",
      "[40] loss: 0.016\n",
      "Accuracy of the network on the val images: 57 %\n",
      "[41] loss: 0.015\n",
      "Accuracy of the network on the val images: 61 %\n",
      "[42] loss: 0.012\n",
      "Accuracy of the network on the val images: 60 %\n",
      "[43] loss: 0.011\n",
      "Accuracy of the network on the val images: 60 %\n",
      "[44] loss: 0.012\n",
      "Accuracy of the network on the val images: 58 %\n",
      "[45] loss: 0.015\n",
      "Accuracy of the network on the val images: 57 %\n",
      "[46] loss: 0.014\n",
      "Accuracy of the network on the val images: 60 %\n",
      "[47] loss: 0.011\n",
      "Accuracy of the network on the val images: 61 %\n",
      "[48] loss: 0.009\n",
      "Accuracy of the network on the val images: 58 %\n",
      "[49] loss: 0.013\n",
      "Accuracy of the network on the val images: 57 %\n",
      "[50] loss: 0.015\n",
      "Accuracy of the network on the val images: 60 %\n",
      "Finished Training\n"
     ]
    }
   ]
  },
  {
   "cell_type": "markdown",
   "source": [],
   "metadata": {
    "collapsed": false,
    "pycharm": {
     "name": "#%% md\n"
    }
   }
  },
  {
   "cell_type": "code",
   "execution_count": 40,
   "outputs": [],
   "source": [
    "########################################################################\n",
    "# 5. Try the network on test data, and create .csv file\n",
    "# ^^^^^^^^^^^^^^^^^^^^^^^^^^^^^^^^^^^^^^^^^^^^^^^^^^^^^\n",
    "########################################################################\n",
    "\n",
    "# Check out why .eval() is important!\n",
    "# https://discuss.pytorch.org/t/model-train-and-model-eval-vs-model-and-model-eval/5744/2\n",
    "net.eval()\n",
    "\n",
    "total = 0\n",
    "predictions = []\n",
    "for data in testloader:\n",
    "    images, labels = data\n",
    "\n",
    "    # For training on GPU, we need to transfer net and data onto the GPU\n",
    "    # http://pytorch.org/tutorials/beginner/blitz/cifar10_tutorial.html#training-on-gpu\n",
    "    if IS_GPU:\n",
    "        images = images.cuda()\n",
    "        labels = labels.cuda()\n",
    "\n",
    "    outputs = net(Variable(images))\n",
    "    _, predicted = torch.max(outputs.data, 1)\n",
    "    predictions.extend(list(predicted.cpu().numpy()))\n",
    "    total += labels.size(0)\n",
    "\n",
    "with open('submission_netid.csv', 'w') as csvfile:\n",
    "    wr = csv.writer(csvfile, quoting=csv.QUOTE_ALL)\n",
    "    wr.writerow([\"Id\", \"Prediction1\"])\n",
    "    for l_i, label in enumerate(predictions):\n",
    "        wr.writerow([str(l_i), str(label)])\n"
   ],
   "metadata": {
    "collapsed": false,
    "pycharm": {
     "name": "#%%\n"
    }
   }
  },
  {
   "cell_type": "code",
   "metadata": {
    "id": "prD0eXGpdoCR",
    "colab_type": "code",
    "colab": {},
    "pycharm": {
     "name": "#%%\n"
    }
   },
   "source": [
    "\n",
    "\"\"\"Headers\"\"\"\n",
    "import os\n",
    "import os.path as osp\n",
    "import time\n",
    "\n",
    "%matplotlib inline\n",
    "import matplotlib.pyplot as plt\n",
    "\n",
    "import torch\n",
    "import torch.nn as nn\n",
    "import torchvision.models as models\n",
    "import torch.optim as optim\n",
    "\n",
    "from torchvision import datasets"
   ],
   "execution_count": 79,
   "outputs": []
  },
  {
   "cell_type": "markdown",
   "metadata": {
    "id": "P6CJz7OM0J9Z",
    "colab_type": "text",
    "pycharm": {
     "name": "#%% md\n"
    }
   },
   "source": [
    "# Pre-Trained Model\n",
    "\n",
    "TODO1. Load pretrained resnet model. Experiment with different models. \n",
    "\n",
    "TODO2: Replace last fc layer\n",
    "\n",
    "TODO3. Forward pass"
   ]
  },
  {
   "cell_type": "code",
   "metadata": {
    "id": "HUdo6AkH0maX",
    "colab_type": "code",
    "colab": {},
    "pycharm": {
     "name": "#%%\n"
    }
   },
   "source": [
    "class PreTrainedResNet(nn.Module):\n",
    "  def __init__(self, num_classes, feature_extracting):\n",
    "    super(PreTrainedResNet, self).__init__()\n",
    "    \n",
    "    #TODO1: Load pre-trained ResNet Model\n",
    "    self.resnet18 = \n",
    "\n",
    "    #Set gradients to false\n",
    "    if feature_extracting:\n",
    "      for param in self.resnet18.parameters():\n",
    "          param.requires_grad = False\n",
    "    \n",
    "    #Replace last fc layer\n",
    "    num_feats = self.resnet18.fc.in_features\n",
    "    \n",
    "    #TODO2: Replace fc layer in resnet to a linear layer of size (num_feats, num_classes)\n",
    "    \n",
    "  def forward(self, x):\n",
    "    #TODO3: Forward pass x through the model\n",
    "    x = \n",
    "    return x"
   ],
   "execution_count": 0,
   "outputs": []
  },
  {
   "cell_type": "markdown",
   "metadata": {
    "id": "Y_DRbNt8Jask",
    "colab_type": "text",
    "pycharm": {
     "name": "#%% md\n"
    }
   },
   "source": [
    "# Train"
   ]
  },
  {
   "cell_type": "code",
   "metadata": {
    "id": "ujUNEVsEvWwv",
    "colab_type": "code",
    "colab": {},
    "pycharm": {
     "name": "#%%\n"
    }
   },
   "source": [
    "def train(model, optimizer, criterion, epoch, num_epochs):\n",
    "  model.train()\n",
    "  epoch_loss = 0.0\n",
    "  epoch_acc = 0.0\n",
    "  \n",
    "  for batch_idx, (images, labels) in enumerate(dataloaders['train']):\n",
    "    #zero the parameter gradients\n",
    "    optimizer.zero_grad()\n",
    "    \n",
    "    #move to GPU\n",
    "    images, labels = images.cuda(), labels.cuda()\n",
    "    \n",
    "    #forward\n",
    "    outputs = model.forward(images)\n",
    "    \n",
    "    loss = criterion(outputs, labels)\n",
    "    \n",
    "    _, preds = torch.max(outputs.data, 1)\n",
    "    \n",
    "    loss.backward()\n",
    "    optimizer.step()\n",
    "    \n",
    "    epoch_loss += loss.item()\n",
    "    epoch_acc += torch.sum(preds == labels).item()\n",
    "    \n",
    "  epoch_loss /= dataset_sizes['train']\n",
    "  epoch_acc /= dataset_sizes['train']\n",
    "  \n",
    "  print('TRAINING Epoch %d/%d Loss %.4f Accuracy %.4f' % (epoch, num_epochs, epoch_loss, epoch_acc))"
   ],
   "execution_count": 0,
   "outputs": []
  },
  {
   "cell_type": "markdown",
   "metadata": {
    "id": "mAbNgE4r7vm-",
    "colab_type": "text",
    "pycharm": {
     "name": "#%% md\n"
    }
   },
   "source": [
    "# Main\n",
    "\n",
    "1. Vary hyperparams\n",
    "2. Data augmentation"
   ]
  },
  {
   "cell_type": "code",
   "metadata": {
    "id": "oZkI3scVWjOQ",
    "colab_type": "code",
    "colab": {},
    "pycharm": {
     "name": "#%%\n"
    }
   },
   "source": [
    "#TODO: Vary Hyperparams\n",
    "\n",
    "NUM_EPOCHS = 10\n",
    "LEARNING_RATE = 0.0001 \n",
    "BATCH_SIZE = 8\n",
    "RESNET_LAST_ONLY = True #Fine tunes only the last layer. Set to False to fine tune entire network\n",
    "\n",
    "root_path = '/data/' #If your data is in a different folder, set the path accodordingly\n",
    "\n",
    "data_transforms = {\n",
    "    'train': transforms.Compose([\n",
    "        transforms.Resize(256),\n",
    "        transforms.CenterCrop(224),\n",
    "        #TODO: Transforms.RandomResizedCrop() instead of CenterCrop(), RandomRoate() and Horizontal Flip()\n",
    "        transforms.ToTensor(),\n",
    "        #TODO: Transforms.Normalize()\n",
    "    ]),\n",
    "    'test': transforms.Compose([\n",
    "        transforms.Resize(256),\n",
    "        transforms.CenterCrop(224),\n",
    "        transforms.ToTensor(),\n",
    "        #TODO: Transforms.Normalize()\n",
    "    ]),\n",
    "}\n",
    "\n",
    "# loading datasets with PyTorch ImageFolder\n",
    "image_datasets = {x: datasets.ImageFolder(os.path.join(root_path, x),\n",
    "                                          data_transforms[x])\n",
    "                  for x in ['train', 'test']}\n",
    "\n",
    "# defining data loaders to load data using image_datasets and transforms, here we also specify batch size for the mini batch\n",
    "dataloaders = {x: torch.utils.data.DataLoader(image_datasets[x], batch_size=BATCH_SIZE,\n",
    "                                             shuffle=True, num_workers=4)\n",
    "              for x in ['train', 'test']}\n",
    "\n",
    "dataset_sizes = {x: len(image_datasets[x]) for x in ['train', 'test']}\n",
    "class_names = image_datasets['train'].classes\n",
    "\n",
    "#Initialize the model\n",
    "model = PreTrainedResNet(len(class_names), RESNET_LAST_ONLY)\n",
    "model = model.cuda()\n",
    "\n",
    "#Setting the optimizer and loss criterion\n",
    "optimizer = optim.SGD(model.parameters(), lr=LEARNING_RATE, momentum=0.9)\n",
    "criterion = nn.CrossEntropyLoss()\n",
    "\n",
    "#Begin Train\n",
    "for epoch in range(NUM_EPOCHS):\n",
    "  train(model, optimizer, criterion, epoch+1, NUM_EPOCHS)\n",
    "  \n",
    "print(\"Finished Training\")\n",
    "print(\"-\"*10)"
   ],
   "execution_count": 0,
   "outputs": []
  },
  {
   "cell_type": "markdown",
   "metadata": {
    "id": "DEbsnh3a7ljw",
    "colab_type": "text",
    "pycharm": {
     "name": "#%% md\n"
    }
   },
   "source": [
    "# Test"
   ]
  },
  {
   "cell_type": "code",
   "metadata": {
    "id": "4wyYKmQ91woU",
    "colab_type": "code",
    "colab": {},
    "pycharm": {
     "name": "#%%\n"
    }
   },
   "source": [
    "def test(model, criterion, repeats=2):\n",
    "  model.eval()\n",
    "  \n",
    "  test_loss = 0.0\n",
    "  test_acc = 0.0\n",
    "  \n",
    "  with torch.no_grad():\n",
    "    for itr in range(repeats):\n",
    "      for batch_idx, (images, labels) in enumerate(dataloaders['test']):\n",
    "        #move to GPU\n",
    "        images, labels = images.cuda(), labels.cuda()\n",
    "\n",
    "        #forward\n",
    "        outputs = model.forward(images)\n",
    "\n",
    "        loss = criterion(outputs, labels)\n",
    "\n",
    "        _, preds = torch.max(outputs.data, 1)\n",
    "\n",
    "        test_loss += loss.item()\n",
    "        test_acc += torch.sum(preds == labels).item()\n",
    "\n",
    "    test_loss /= (dataset_sizes['test']*repeats)\n",
    "    test_acc /= (dataset_sizes['test']*repeats)\n",
    "\n",
    "    print('Test Loss: %.4f Test Accuracy %.4f' % (test_loss, test_acc))\n"
   ],
   "execution_count": 0,
   "outputs": []
  },
  {
   "cell_type": "code",
   "metadata": {
    "id": "znXWR6oWyl-B",
    "colab_type": "code",
    "colab": {},
    "pycharm": {
     "name": "#%%\n"
    }
   },
   "source": [
    "test(model, criterion)"
   ],
   "execution_count": 0,
   "outputs": []
  },
  {
   "cell_type": "markdown",
   "metadata": {
    "id": "kNX2g3AYUbM2",
    "colab_type": "text",
    "pycharm": {
     "name": "#%% md\n"
    }
   },
   "source": [
    "# Visualizing the model predictions\n",
    "\n",
    "Only for viusalizing. Nothing to be done here. "
   ]
  },
  {
   "cell_type": "code",
   "metadata": {
    "id": "Zd_lkTdoUaOX",
    "colab_type": "code",
    "colab": {},
    "pycharm": {
     "name": "#%%\n"
    }
   },
   "source": [
    "def imshow(inp, title=None):\n",
    "    \"\"\"Imshow for Tensor.\"\"\"\n",
    "    inp = inp.numpy().transpose((1, 2, 0))\n",
    "    inp = np.clip(inp, 0, 1)\n",
    "    plt.imshow(inp)\n",
    "    if title is not None:\n",
    "        plt.title(title)\n",
    "    plt.pause(1)  # pause a bit so that plots are updated\n",
    "    \n",
    "def visualize_model(model, num_images=8):\n",
    "    images_so_far = 0\n",
    "    fig = plt.figure()\n",
    "\n",
    "    for batch_idx, (images, labels) in enumerate(dataloaders['test']):\n",
    "        #move to GPU\n",
    "        images, labels = images.cuda(), labels.cuda()\n",
    "        \n",
    "        outputs = model(images)\n",
    "        \n",
    "        _, preds = torch.max(outputs.data, 1)\n",
    "       \n",
    "\n",
    "        for j in range(images.size()[0]):\n",
    "            images_so_far += 1\n",
    "            ax = plt.subplot(num_images//2, 2, images_so_far)\n",
    "            ax.axis('off')\n",
    "            ax.set_title('class: {} predicted: {}'.format(class_names[labels.data[j]], class_names[preds[j]]))\n",
    "\n",
    "            imshow(images.cpu().data[j])\n",
    "\n",
    "            if images_so_far == num_images:\n",
    "                return"
   ],
   "execution_count": 0,
   "outputs": []
  },
  {
   "cell_type": "code",
   "metadata": {
    "id": "sxjSnLKOJsTW",
    "colab_type": "code",
    "colab": {},
    "pycharm": {
     "name": "#%%\n"
    }
   },
   "source": [
    "visualize_model(model)"
   ],
   "execution_count": 0,
   "outputs": []
  }
 ]
}